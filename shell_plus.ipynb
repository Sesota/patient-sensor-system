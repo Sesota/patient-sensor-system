{
 "cells": [
  {
   "cell_type": "code",
   "execution_count": 1,
   "id": "5f2927e2",
   "metadata": {},
   "outputs": [],
   "source": [
    "import json\n",
    "import os\n",
    "import re\n",
    "import uuid\n",
    "from datetime import datetime, timedelta\n",
    "from functools import lru_cache\n",
    "from itertools import chain\n",
    "from pprint import pprint\n",
    "from typing import Optional, Any\n",
    "\n",
    "from IPython.display import display\n",
    "import django\n",
    "\n",
    "os.environ.setdefault(\"DJANGO_SETTINGS_MODULE\", \"config.settings\")\n",
    "os.environ[\"DJANGO_ALLOW_ASYNC_UNSAFE\"] = \"true\"\n",
    "django.setup()\n",
    "\n",
    "from django.conf import settings\n",
    "from django.contrib.auth.models import User\n",
    "from django.core.management import call_command\n",
    "from django.db import connection, reset_queries\n",
    "from django.db.models.query import QuerySet\n",
    "from ninja import Schema, Field\n",
    "from pydantic import validator\n",
    "\n",
    "from supervision.models import Supervision, DatasourcesConfig"
   ]
  },
  {
   "cell_type": "code",
   "execution_count": 10,
   "id": "161a70ee",
   "metadata": {},
   "outputs": [
    {
     "data": {
      "text/plain": [
       "[('admin', 'Admin'), ('patient', 'Patient'), ('supervisor', 'Supervisor')]"
      ]
     },
     "execution_count": 10,
     "metadata": {},
     "output_type": "execute_result"
    }
   ],
   "source": [
    "from user.enums import Role\n",
    "\n",
    "a = Role.choices\n",
    "a"
   ]
  },
  {
   "cell_type": "code",
   "execution_count": 5,
   "id": "87d03470",
   "metadata": {},
   "outputs": [
    {
     "data": {
      "text/plain": [
       "1"
      ]
     },
     "execution_count": 5,
     "metadata": {},
     "output_type": "execute_result"
    }
   ],
   "source": [
    "from django.core.mail import send_mail\n",
    "\n",
    "subject = 'Thank you for registering to our site'\n",
    "message = ' it  means a world to us '\n",
    "email_from = settings.EMAIL_HOST_USER\n",
    "recipient_list = ['sephr.solouki@gmail.com',]\n",
    "send_mail( subject, message, email_from, recipient_list )"
   ]
  }
 ],
 "metadata": {
  "kernelspec": {
   "display_name": ".venv",
   "language": "python",
   "name": "python3"
  },
  "language_info": {
   "codemirror_mode": {
    "name": "ipython",
    "version": 3
   },
   "file_extension": ".py",
   "mimetype": "text/x-python",
   "name": "python",
   "nbconvert_exporter": "python",
   "pygments_lexer": "ipython3",
   "version": "3.10.9"
  },
  "vscode": {
   "interpreter": {
    "hash": "1879a2488990336424a4b09d95f8c344095d378665ccb59f4b34983c87e89fc1"
   }
  }
 },
 "nbformat": 4,
 "nbformat_minor": 5
}
